{
 "cells": [
  {
   "cell_type": "code",
   "execution_count": null,
   "id": "4bd2d669-0343-4dc0-9dc8-20c84092b8f1",
   "metadata": {},
   "outputs": [],
   "source": [
    "# Hi Lauren!\n",
    "# This program is meant to solve your puzzle, stated thus:\n",
    "#  find words in the English language that have \n",
    "#  three consecutive double-letters\n",
    "\n",
    "# The program is written in Python, a popular programming language\n",
    "#  that can do a lot of neat things very quickly.  "
   ]
  },
  {
   "cell_type": "code",
   "execution_count": 86,
   "id": "ea48074c-c883-4751-85fe-8c7a11bcba62",
   "metadata": {},
   "outputs": [
    {
     "name": "stdout",
     "output_type": "stream",
     "text": [
      "bookkeep\n",
      "bookkeeper\n",
      "bookkeepers\n",
      "bookkeeping\n",
      "bookkeeps\n",
      "subbookkeeper\n"
     ]
    }
   ],
   "source": [
    "# APPROACH No. 1: Check each word in the dictionary\n",
    "#  to see if it matches the triple-double pattern\n",
    "# Uses a dictionary from https://github.com/dwyl/english-words\n",
    "#  because I couldn't figure out how to iterate through words\n",
    "#  in the pyenchant dictionary\n",
    "import re\n",
    "\n",
    "# This just reads the .txt file into a giant string, where\n",
    "#  words are broken up by newline (\\n) characters\n",
    "# Commented out is a line to return as a set of individual words,\n",
    "#  if you so choose.\n",
    "def load_words():\n",
    "    with open('words_alpha.txt') as word_file:\n",
    "        valid_words = word_file.read()\n",
    "        # valid_words = set(word_file.read().split())\n",
    "    return valid_words\n",
    "\n",
    "# english_words is a giant text string of all words in dictionary,\n",
    "#  separated by newline characters\n",
    "english_words = load_words()\n",
    "\n",
    "# Uses a regular expression to look for matches\n",
    "#  .* means zero or more non-whitespace characters\n",
    "#  ([a-z])\\1 matches a double letter, by finding any \n",
    "#   letter from a to z and matching that same letter\n",
    "#   by backreference with \\1 (or \\2, \\3, etc)\n",
    "triple_doubles = re.finditer(r\".*([a-z])\\1(?=([a-z])\\2(?=([a-z])\\3)).*\", english_words)\n",
    "\n",
    "# Print the words\n",
    "for word in triple_doubles:\n",
    "    print(word.group())\n"
   ]
  },
  {
   "cell_type": "code",
   "execution_count": 65,
   "id": "be76166c-7065-4469-9c5d-7c45afd96227",
   "metadata": {
    "tags": []
   },
   "outputs": [
    {
     "ename": "TypeError",
     "evalue": "sequence item 0: expected str instance, NoneType found",
     "output_type": "error",
     "traceback": [
      "\u001b[1;31m---------------------------------------------------------------------------\u001b[0m",
      "\u001b[1;31mTypeError\u001b[0m                                 Traceback (most recent call last)",
      "\u001b[1;32m<ipython-input-65-5017e012de79>\u001b[0m in \u001b[0;36m<module>\u001b[1;34m\u001b[0m\n\u001b[0;32m     36\u001b[0m \u001b[1;32mfor\u001b[0m \u001b[0mdouble_triple\u001b[0m \u001b[1;32min\u001b[0m \u001b[0mdouble_chains\u001b[0m\u001b[1;33m:\u001b[0m\u001b[1;33m\u001b[0m\u001b[1;33m\u001b[0m\u001b[0m\n\u001b[0;32m     37\u001b[0m     \u001b[0mfull_combos\u001b[0m \u001b[1;33m=\u001b[0m \u001b[1;33m[\u001b[0m\u001b[0mlist\u001b[0m\u001b[1;33m(\u001b[0m\u001b[0mcombo\u001b[0m\u001b[1;33m)\u001b[0m\u001b[1;33m.\u001b[0m\u001b[0mappend\u001b[0m\u001b[1;33m(\u001b[0m\u001b[0mdouble_triple\u001b[0m\u001b[1;33m)\u001b[0m \u001b[1;32mfor\u001b[0m \u001b[0mcombo\u001b[0m \u001b[1;32min\u001b[0m \u001b[0msingle_combos\u001b[0m\u001b[1;33m]\u001b[0m\u001b[1;33m\u001b[0m\u001b[1;33m\u001b[0m\u001b[0m\n\u001b[1;32m---> 38\u001b[1;33m     \u001b[0mpotential_words\u001b[0m \u001b[1;33m+=\u001b[0m \u001b[1;33m[\u001b[0m\u001b[1;34m\"\"\u001b[0m\u001b[1;33m.\u001b[0m\u001b[0mjoin\u001b[0m\u001b[1;33m(\u001b[0m\u001b[0mx\u001b[0m\u001b[1;33m)\u001b[0m \u001b[1;32mfor\u001b[0m \u001b[0mx\u001b[0m \u001b[1;32min\u001b[0m \u001b[0mpermutations\u001b[0m\u001b[1;33m(\u001b[0m\u001b[0mfull_combos\u001b[0m\u001b[1;33m)\u001b[0m\u001b[1;33m]\u001b[0m\u001b[1;33m\u001b[0m\u001b[1;33m\u001b[0m\u001b[0m\n\u001b[0m",
      "\u001b[1;32m<ipython-input-65-5017e012de79>\u001b[0m in \u001b[0;36m<listcomp>\u001b[1;34m(.0)\u001b[0m\n\u001b[0;32m     36\u001b[0m \u001b[1;32mfor\u001b[0m \u001b[0mdouble_triple\u001b[0m \u001b[1;32min\u001b[0m \u001b[0mdouble_chains\u001b[0m\u001b[1;33m:\u001b[0m\u001b[1;33m\u001b[0m\u001b[1;33m\u001b[0m\u001b[0m\n\u001b[0;32m     37\u001b[0m     \u001b[0mfull_combos\u001b[0m \u001b[1;33m=\u001b[0m \u001b[1;33m[\u001b[0m\u001b[0mlist\u001b[0m\u001b[1;33m(\u001b[0m\u001b[0mcombo\u001b[0m\u001b[1;33m)\u001b[0m\u001b[1;33m.\u001b[0m\u001b[0mappend\u001b[0m\u001b[1;33m(\u001b[0m\u001b[0mdouble_triple\u001b[0m\u001b[1;33m)\u001b[0m \u001b[1;32mfor\u001b[0m \u001b[0mcombo\u001b[0m \u001b[1;32min\u001b[0m \u001b[0msingle_combos\u001b[0m\u001b[1;33m]\u001b[0m\u001b[1;33m\u001b[0m\u001b[1;33m\u001b[0m\u001b[0m\n\u001b[1;32m---> 38\u001b[1;33m     \u001b[0mpotential_words\u001b[0m \u001b[1;33m+=\u001b[0m \u001b[1;33m[\u001b[0m\u001b[1;34m\"\"\u001b[0m\u001b[1;33m.\u001b[0m\u001b[0mjoin\u001b[0m\u001b[1;33m(\u001b[0m\u001b[0mx\u001b[0m\u001b[1;33m)\u001b[0m \u001b[1;32mfor\u001b[0m \u001b[0mx\u001b[0m \u001b[1;32min\u001b[0m \u001b[0mpermutations\u001b[0m\u001b[1;33m(\u001b[0m\u001b[0mfull_combos\u001b[0m\u001b[1;33m)\u001b[0m\u001b[1;33m]\u001b[0m\u001b[1;33m\u001b[0m\u001b[1;33m\u001b[0m\u001b[0m\n\u001b[0m",
      "\u001b[1;31mTypeError\u001b[0m: sequence item 0: expected str instance, NoneType found"
     ]
    }
   ],
   "source": [
    "# APPROACH No. 2: Generate all possible combinations of \n",
    "#  n-letter words with three consecutive double letters,\n",
    "#  then check each against a dictionary.\n",
    "# No concern for efficiency, just make it work.\n",
    "#  NOTE: despite this statement, the program does not work yet.\n",
    "import enchant                       # Used as the dictionary of acceptable English words\n",
    "from itertools import permutations, combinations   # Someone else's function to mix up letters\n",
    "dict = enchant.Dict(\"en_US\")\n",
    "\n",
    "MAX_LENGTH = 15         # Max length of word to consider\n",
    "max_len = max(MAX_LENGTH - 5, 0)\n",
    "\n",
    "# Generate an iterable list of letters.  ord() returns the ASCII code for\n",
    "#  each letter, and the list comprehension syntax [...] creates a nice list\n",
    "alphabet = [chr(x) for x in range(ord('a'), ord('z') + 1)] \n",
    "\n",
    "# Generate a list of double letters by a similar method\n",
    "double_letters = [\"\".join([x, x]) for x in alphabet]\n",
    "\n",
    "# Pick 3-permutations of double letters to chain together\n",
    "double_chains = [\"\".join(x) for x in permutations(double_letters, 3)]\n",
    "\n",
    "# Choose combos of letters to permute with words, of all lengths \n",
    "letter_combos = [combinations(alphabet, length) for length in range(1, max_len)]\n",
    "\n",
    "\n",
    "#potential_words = \n",
    "\n",
    "    # \"\".join(letters) for letters in \n",
    "\n",
    "# Create all n-combinations of the alphabet; that is, all possible unique \n",
    "#  groupings of letters if we don't care about the order\n",
    "single_combos = list(combinations(alphabet, 2))\n",
    "\n",
    "# potential_words = [\"\".join(x) for x in permutations(combinations(double_chains, 1) + )\n",
    "potential_words = []\n",
    "for double_triple in double_chains:\n",
    "    full_combos = [list(combo).append(double_triple) for combo in single_combos]\n",
    "    potential_words += [\"\".join(x) for x in permutations(full_combos)]\n"
   ]
  },
  {
   "cell_type": "code",
   "execution_count": null,
   "id": "a3e02132-2cbc-4951-9bbd-f0a0c07dea72",
   "metadata": {},
   "outputs": [],
   "source": []
  }
 ],
 "metadata": {
  "kernelspec": {
   "display_name": "Python 3",
   "language": "python",
   "name": "python3"
  },
  "language_info": {
   "codemirror_mode": {
    "name": "ipython",
    "version": 3
   },
   "file_extension": ".py",
   "mimetype": "text/x-python",
   "name": "python",
   "nbconvert_exporter": "python",
   "pygments_lexer": "ipython3",
   "version": "3.8.8"
  }
 },
 "nbformat": 4,
 "nbformat_minor": 5
}
